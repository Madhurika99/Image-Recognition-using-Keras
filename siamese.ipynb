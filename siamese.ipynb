{
  "nbformat": 4,
  "nbformat_minor": 0,
  "metadata": {
    "colab": {
      "name": "Untitled0.ipynb",
      "provenance": [],
      "collapsed_sections": []
    },
    "kernelspec": {
      "name": "python3",
      "display_name": "Python 3"
    },
    "accelerator": "GPU"
  },
  "cells": [
    {
      "cell_type": "markdown",
      "metadata": {
        "id": "shybTQrOFRcU",
        "colab_type": "text"
      },
      "source": [
        "# **Loading important libraries**"
      ]
    },
    {
      "cell_type": "code",
      "metadata": {
        "id": "c2_gcKccjUEC",
        "colab_type": "code",
        "colab": {
          "base_uri": "https://localhost:8080/",
          "height": 81
        },
        "outputId": "f66d6a60-d905-4822-f56f-8ac9c80c7396"
      },
      "source": [
        "from __future__ import absolute_import\n",
        "from __future__ import print_function\n",
        "import numpy as np\n",
        "\n",
        "import random\n",
        "import keras\n",
        "from keras.datasets import mnist\n",
        "from keras.models import Model\n",
        "from keras.layers import Input, Flatten, Dense, Dropout, Lambda\n",
        "from keras.optimizers import RMSprop\n",
        "from keras import backend as K"
      ],
      "execution_count": 1,
      "outputs": [
        {
          "output_type": "stream",
          "text": [
            "Using TensorFlow backend.\n"
          ],
          "name": "stderr"
        },
        {
          "output_type": "display_data",
          "data": {
            "text/html": [
              "<p style=\"color: red;\">\n",
              "The default version of TensorFlow in Colab will soon switch to TensorFlow 2.x.<br>\n",
              "We recommend you <a href=\"https://www.tensorflow.org/guide/migrate\" target=\"_blank\">upgrade</a> now \n",
              "or ensure your notebook will continue to use TensorFlow 1.x via the <code>%tensorflow_version 1.x</code> magic:\n",
              "<a href=\"https://colab.research.google.com/notebooks/tensorflow_version.ipynb\" target=\"_blank\">more info</a>.</p>\n"
            ],
            "text/plain": [
              "<IPython.core.display.HTML object>"
            ]
          },
          "metadata": {
            "tags": []
          }
        }
      ]
    },
    {
      "cell_type": "markdown",
      "metadata": {
        "id": "0EO8G8La72j2",
        "colab_type": "text"
      },
      "source": [
        "# **utility functions for loss and create pairs**"
      ]
    },
    {
      "cell_type": "code",
      "metadata": {
        "id": "2yhgQTrV7x3G",
        "colab_type": "code",
        "colab": {}
      },
      "source": [
        "#function to calculate euclidean distance between two vectors produce by base network\n",
        "def euclidean_distance(vects): #'vects' variable contains two vectors from  base network\n",
        "    x, y = vects\n",
        "    sum_square = K.sum(K.square(x - y), axis=1, keepdims=True)\n",
        "    return K.sqrt(K.maximum(sum_square, K.epsilon()))\n",
        "\n",
        "#function to set output shape of final concatenated model\n",
        "def eucl_dist_output_shape(shapes): #'shapes' parameter Contains shapes of two resultant vector\n",
        "    shape1, shape2 = shapes\n",
        "    return (shape1[0], 1)\n",
        "\n",
        "#custom function to compute accuracy of the network\n",
        "def compute_accuracy(y_true, y_pred): #y_true is ground labels of pairs while y_pred is the predicted value of \n",
        "    '''Compute classification accuracy with a fixed threshold on distances.\n",
        "    '''\n",
        "    pred = y_pred.ravel() < 0.5\n",
        "    return np.mean(pred == y_true)\n",
        "\n",
        "\n",
        "def accuracy(y_true, y_pred):\n",
        "    '''Compute classification accuracy with a fixed threshold on distances.\n",
        "    '''\n",
        "    return K.mean(K.equal(y_true, K.cast(y_pred < 0.5, y_true.dtype)))\n",
        "  \n",
        "  \n",
        "#Function Create pairs makes pair of data images according to labels the data have\n",
        "def create_pairs(x, digit_indices):\n",
        "    '''Positive and negative pair creation.\n",
        "    Alternates between positive and negative pairs.\n",
        "    '''\n",
        "    num_classes = int(len(digit_indices))\n",
        "    \n",
        "    pairs = []\n",
        "    labels = []\n",
        "    n = min([len(digit_indices[d]) for d in range(num_classes)]) - 1\n",
        "    for d in range(num_classes):\n",
        "        for i in range(n):\n",
        "            z1, z2 = digit_indices[d][i], digit_indices[d][i + 1]\n",
        "            pairs += [[x[z1], x[z2]]]\n",
        "            inc = random.randrange(1, num_classes)\n",
        "            dn = (d + inc) % num_classes\n",
        "            z1, z2 = digit_indices[d][i], digit_indices[dn][i]\n",
        "            pairs += [[x[z1], x[z2]]]\n",
        "            labels += [1, 0]\n",
        "    return np.array(pairs), np.array(labels)\n",
        "  \n",
        "\n",
        "#function to plot pair of images and their corresponding model predicted and ground truth \n",
        "def plotfigures_data(index,y_pred,data,gt_labels): #'index' is index of image pair number, 'y_pred' model prediction, 'data' is dataset, 'gt_labels' ground truth labels\n",
        "\n",
        "  labelname = ['similar','different'] \n",
        "  fig = plt.figure()\n",
        "  ax1 = fig.add_subplot(2,2,1)\n",
        "  pred = 'similar' if y_pred[index] < 0.5 else 'different'\n",
        "  ground = 'similar' if gt_labels[index] == 1 else 'different'\n",
        "\n",
        "  #printing mdoel prediction along with ground label and model confidence score\n",
        "  #print('Model prediction Confidence: ',y_pred[index])\n",
        "  print('Ground label: ', ground)\n",
        "  print('Model  prediction: ',pred)\n",
        "  ax1.imshow(data[index,0].reshape((28,28)))\n",
        "  ax2 = fig.add_subplot(2,2,2)\n",
        "  ax2.imshow(data[index,1].reshape((28,28)))\n",
        "  plt.show()\n"
      ],
      "execution_count": 0,
      "outputs": []
    },
    {
      "cell_type": "markdown",
      "metadata": {
        "id": "1u6IB6Mv8l45",
        "colab_type": "text"
      },
      "source": [
        "# **Loading Fashion Mnist data**"
      ]
    },
    {
      "cell_type": "code",
      "metadata": {
        "id": "mekYHpQ_7x9D",
        "colab_type": "code",
        "colab": {
          "base_uri": "https://localhost:8080/",
          "height": 52
        },
        "outputId": "632f3a86-c22e-4baa-840e-a7e07c63aa04"
      },
      "source": [
        "from keras.datasets import fashion_mnist\n",
        "((trainX, trainY), (testX, testY)) = fashion_mnist.load_data()\n",
        "\n",
        "#Concatenating into one dataset into variable 'finaldata', so that we can split it into train and test based on our own condition.\n",
        "finaldata = np.concatenate((trainX,testX),axis = 0)\n",
        "finallabels = np.concatenate((trainY,testY),axis = 0)\n",
        "finaldata = np.expand_dims(finaldata,axis=3)\n",
        "\n",
        "#printing shape of finaldata set\n",
        "print('Dataset Shape: ',finaldata.shape)\n",
        "print('Dataset labels Shape: ',finallabels.shape)"
      ],
      "execution_count": 76,
      "outputs": [
        {
          "output_type": "stream",
          "text": [
            "Dataset Shape:  (70000, 28, 28, 1)\n",
            "Dataset labels Shape:  (70000,)\n"
          ],
          "name": "stdout"
        }
      ]
    },
    {
      "cell_type": "markdown",
      "metadata": {
        "id": "AX2IqIIAnEGb",
        "colab_type": "text"
      },
      "source": [
        "# **Now We split the data into test and train based on labels**"
      ]
    },
    {
      "cell_type": "code",
      "metadata": {
        "id": "KaYtshsT7yZZ",
        "colab_type": "code",
        "colab": {
          "base_uri": "https://localhost:8080/",
          "height": 52
        },
        "outputId": "0086431c-2bda-443a-af1f-236813e838dd"
      },
      "source": [
        "#labels with their corresponding numeric labels\n",
        "#T-shirt/top : 0 , Trouser/pants : 1 , Pullover shirt: 2 ,  Dress: 3 , Coat: 4 ,  Sandal: 5 , Shirt: 6, Sneaker:7 , Bag: 8 , Ankle boot:9\n",
        "\n",
        "#These are test and train numeric labels \n",
        "trainlabels = [0,1,2,4,5,9] # \"top\", \"trouser\", \"pullover\", \"coat\", \"sandal\", \"ankle\n",
        "testlabels = [3,6,7,8] #\"dress\", \"sneaker\", \"bag\", \"shirt\"\n",
        "\n",
        "#finding indices of train and test labels\n",
        "trainlabels_indices = [np.where(finallabels == i)[0] for i in trainlabels]\n",
        "testlabels_indices = [np.where(finallabels == i)[0] for i in testlabels]\n",
        "\n",
        "\n",
        "#now dividing training set further into trainable and validation set. we take 20% of the train set into validation set.\n",
        "vallabels_indices = []\n",
        "for i in range(len(trainlabels_indices)):\n",
        "  vallabels_indices.append(trainlabels_indices[i][-1400:])\n",
        "  trainlabels_indices[i] = trainlabels_indices[i][:-1400]\n",
        "\n",
        "print(np.array(trainlabels_indices).shape)\n",
        "print(np.array(vallabels_indices).shape)"
      ],
      "execution_count": 160,
      "outputs": [
        {
          "output_type": "stream",
          "text": [
            "(6, 5600)\n",
            "(6, 1400)\n"
          ],
          "name": "stdout"
        }
      ]
    },
    {
      "cell_type": "code",
      "metadata": {
        "id": "tzRhnddwkd_A",
        "colab_type": "code",
        "colab": {
          "base_uri": "https://localhost:8080/",
          "height": 69
        },
        "outputId": "d855dd68-524d-44f8-f0a1-3af808e9b17f"
      },
      "source": [
        "#Now making pairs of train and test data based on seperate labels\n",
        "train_pairs, train_y = create_pairs(finaldata, trainlabels_indices)\n",
        "val_pairs,val_y = create_pairs(finaldata, vallabels_indices)\n",
        "test_pairs, test_y = create_pairs(finaldata, testlabels_indices)\n",
        "\n",
        "#printing shape of test and train Data\n",
        "print('Training Dataset Shape: ',train_pairs.shape,train_y.shape)\n",
        "print('Validation Dataset Shape: ',val_pairs.shape,val_y.shape)\n",
        "print('Testing Dataset Shape: ',test_pairs.shape,test_y.shape)"
      ],
      "execution_count": 161,
      "outputs": [
        {
          "output_type": "stream",
          "text": [
            "Training Dataset Shape:  (67188, 2, 28, 28, 1) (67188,)\n",
            "Validation Dataset Shape:  (16788, 2, 28, 28, 1) (16788,)\n",
            "Testing Dataset Shape:  (55992, 2, 28, 28, 1) (55992,)\n"
          ],
          "name": "stdout"
        }
      ]
    },
    {
      "cell_type": "markdown",
      "metadata": {
        "id": "61pfhJq9JQhF",
        "colab_type": "text"
      },
      "source": [
        "Now we normalize images pixel values between 0 and 1 because to make model learn these images it is necessary to scale the images in general range."
      ]
    },
    {
      "cell_type": "code",
      "metadata": {
        "id": "7b0jnYweHbHd",
        "colab_type": "code",
        "colab": {}
      },
      "source": [
        "#normalizaing Data\n",
        "train_pairs = train_pairs.astype('float32')\n",
        "val_pairs = val_pairs.astype('float32')\n",
        "test_pairs = test_pairs.astype('float32')\n",
        "train_pairs /= 255\n",
        "val_pairs /= 255\n",
        "test_pairs /= 255"
      ],
      "execution_count": 0,
      "outputs": []
    },
    {
      "cell_type": "markdown",
      "metadata": {
        "id": "lhbiCYJtJnzi",
        "colab_type": "text"
      },
      "source": [
        "# **Now We declare our custom Loss function which is Contrast function and build it**"
      ]
    },
    {
      "cell_type": "code",
      "metadata": {
        "id": "vSB0Qkb2JoEv",
        "colab_type": "code",
        "colab": {}
      },
      "source": [
        "#Loss function\n",
        "def contrastive_loss(y_true, y_pred):\n",
        "    #Contrastive loss function\n",
        "    \n",
        "    margin = 1\n",
        "    square_pred = K.square(y_pred)\n",
        "    margin_square = K.square(K.maximum(margin - y_pred, 0))\n",
        "    return K.mean(y_true * square_pred + (1 - y_true) * margin_square)"
      ],
      "execution_count": 0,
      "outputs": []
    },
    {
      "cell_type": "markdown",
      "metadata": {
        "id": "tNSctdDUJ6xa",
        "colab_type": "text"
      },
      "source": [
        "# **Building Base network that gives us final feature vector learned from pair of images**"
      ]
    },
    {
      "cell_type": "code",
      "metadata": {
        "id": "yihBquH4KC2q",
        "colab_type": "code",
        "colab": {}
      },
      "source": [
        "\n",
        "def create_base_network(input_shape):\n",
        "    '''Base network to be shared (eq. to feature extraction).\n",
        "    '''\n",
        "  \n",
        "    \n",
        "    input = Input(shape=input_shape)\n",
        "    x = keras.layers.Conv2D(32, kernel_size=(3, 3),activation='relu')(input)\n",
        "    x = Dropout(0.3)(x)\n",
        "    #x = keras.layers.BatchNormalization()(x)\n",
        "    x = keras.layers.Conv2D(64, kernel_size=(3, 3),activation='relu')(x)\n",
        "    x = Dropout(0.4)(x)\n",
        "    #x = keras.layers.BatchNormalization()(x)\n",
        "    #x = keras.layers.Conv2D(128, kernel_size=(3, 3),activation='relu')(x)\n",
        "    x = keras.layers.Flatten()(x)\n",
        "    x = Dropout(0.6)(x)\n",
        "    x = Dense(128, activation='relu')(x)#activity_regularizer=regularizers.l1(0.001))(x)\n",
        "    return Model(input, x)\n"
      ],
      "execution_count": 0,
      "outputs": []
    },
    {
      "cell_type": "markdown",
      "metadata": {
        "id": "nNz6g9FFKaRp",
        "colab_type": "text"
      },
      "source": [
        "# **Now we build siamese model**"
      ]
    },
    {
      "cell_type": "code",
      "metadata": {
        "id": "n8jtA-rrKXww",
        "colab_type": "code",
        "colab": {}
      },
      "source": [
        "import warnings\n",
        "warnings.filterwarnings(\"ignore\")\n",
        "\n",
        "from keras import optimizers\n",
        "from keras import regularizers\n",
        "\n",
        "\n",
        "input_shape = train_pairs.shape[2:]\n",
        "\n",
        "#Creating base network definition\n",
        "base_network = create_base_network(input_shape) #input_shape avriable is input shape of the model 28*28*1 .\n",
        "\n",
        "#Declaring shape for base network instances\n",
        "input_a = Input(shape=input_shape)\n",
        "input_b = Input(shape=input_shape)\n",
        "\n",
        "# because we re-use the same instance `base_network`,\n",
        "# the weights of the network\n",
        "# will be shared across the two branches\n",
        "processed_a = base_network(input_a)\n",
        "processed_b = base_network(input_b)\n",
        "\n",
        "#Concatenating two base model instances to make its output to one model\n",
        "distance = Lambda(euclidean_distance,\n",
        "                  output_shape=eucl_dist_output_shape)([processed_a, processed_b])\n",
        "\n",
        "#Declaring one final model\n",
        "model = Model([input_a, input_b], distance)\n",
        "\n",
        "# Declaring optimizer and compiling model to build it\n",
        "sgd = optimizers.SGD(lr=0.001, decay=1e-6, momentum=0.9, nesterov=True)\n",
        "model.compile(loss=contrastive_loss, optimizer=sgd, metrics=[accuracy])"
      ],
      "execution_count": 0,
      "outputs": []
    },
    {
      "cell_type": "markdown",
      "metadata": {
        "id": "K5hKEmpQGW53",
        "colab_type": "text"
      },
      "source": [
        "# **Training**"
      ]
    },
    {
      "cell_type": "code",
      "metadata": {
        "id": "egthF9OR7yMJ",
        "colab_type": "code",
        "colab": {
          "base_uri": "https://localhost:8080/",
          "height": 208
        },
        "outputId": "f2eb7e81-1d2c-42d2-93d2-ee89c86bb670"
      },
      "source": [
        "import warnings\n",
        "warnings.filterwarnings(\"ignore\")\n",
        "\n",
        "epochs = 5\n",
        "#training of model\n",
        "history = model.fit([train_pairs[:, 0], train_pairs[:, 1]], train_y,\n",
        "          batch_size=256,\n",
        "          epochs=epochs,\n",
        "          validation_data=([val_pairs[:, 0], val_pairs[:, 1]], val_y))"
      ],
      "execution_count": 131,
      "outputs": [
        {
          "output_type": "stream",
          "text": [
            "Train on 67188 samples, validate on 16788 samples\n",
            "Epoch 1/5\n",
            "67188/67188 [==============================] - 24s 362us/step - loss: 0.2503 - accuracy: 0.5430 - val_loss: 0.2671 - val_accuracy: 0.5262\n",
            "Epoch 2/5\n",
            "67188/67188 [==============================] - 23s 346us/step - loss: 0.1817 - accuracy: 0.7457 - val_loss: 0.1251 - val_accuracy: 0.8335\n",
            "Epoch 3/5\n",
            "67188/67188 [==============================] - 23s 345us/step - loss: 0.1273 - accuracy: 0.8473 - val_loss: 0.1019 - val_accuracy: 0.8675\n",
            "Epoch 4/5\n",
            "67188/67188 [==============================] - 23s 345us/step - loss: 0.1093 - accuracy: 0.8696 - val_loss: 0.0913 - val_accuracy: 0.8803\n",
            "Epoch 5/5\n",
            "67188/67188 [==============================] - 23s 345us/step - loss: 0.1000 - accuracy: 0.8809 - val_loss: 0.0844 - val_accuracy: 0.8865\n"
          ],
          "name": "stdout"
        }
      ]
    },
    {
      "cell_type": "markdown",
      "metadata": {
        "id": "9egTCZuuLws-",
        "colab_type": "text"
      },
      "source": [
        "We only train out model for 5 epochs as if we train more model starts to learn noise which does not give give generalization capacity to our model."
      ]
    },
    {
      "cell_type": "markdown",
      "metadata": {
        "id": "WtILxU-ADJ9S",
        "colab_type": "text"
      },
      "source": [
        "# **Plotting loss and Accuracy curve of train and validation data**"
      ]
    },
    {
      "cell_type": "code",
      "metadata": {
        "id": "CzMIs0AaCbBj",
        "colab_type": "code",
        "colab": {
          "base_uri": "https://localhost:8080/",
          "height": 295
        },
        "outputId": "a13e5636-42f9-42f8-acfd-6addd4c3c2d4"
      },
      "source": [
        "#Loss curve shows loss is reducing over time on bth dataset validation and training\n",
        "import matplotlib.pyplot as plt\n",
        "plt.plot(history.history['loss'])\n",
        "plt.plot(history.history['val_loss'])\n",
        "plt.title('model loss')\n",
        "plt.ylabel('loss')\n",
        "plt.xlabel('epoch')\n",
        "plt.legend(['train', 'val'], loc='upper left')\n",
        "plt.show()"
      ],
      "execution_count": 132,
      "outputs": [
        {
          "output_type": "display_data",
          "data": {
            "image/png": "[encoded data removed]",
            "text/plain": [
              "<Figure size 432x288 with 1 Axes>"
            ]
          },
          "metadata": {
            "tags": []
          }
        }
      ]
    },
    {
      "cell_type": "code",
      "metadata": {
        "id": "QcHOZUInDQYt",
        "colab_type": "code",
        "colab": {
          "base_uri": "https://localhost:8080/",
          "height": 295
        },
        "outputId": "48ea2a48-b14f-4405-b2c1-c4493eef8a20"
      },
      "source": [
        "# Accuracy curve to show accuracy is increasing of both datasets.\n",
        "plt.plot(history.history['accuracy'])\n",
        "plt.plot(history.history['val_accuracy'])\n",
        "plt.title('model accuracy')\n",
        "plt.ylabel('accuracy')\n",
        "plt.xlabel('epoch')\n",
        "plt.legend(['train', 'val'], loc='upper left')\n",
        "plt.show()"
      ],
      "execution_count": 133,
      "outputs": [
        {
          "output_type": "display_data",
          "data": {
            "image/png": "[encoded data removed]",
            "text/plain": [
              "<Figure size 432x288 with 1 Axes>"
            ]
          },
          "metadata": {
            "tags": []
          }
        }
      ]
    },
    {
      "cell_type": "markdown",
      "metadata": {
        "id": "1l1bCIqRGA8R",
        "colab_type": "text"
      },
      "source": [
        "# **Testing To see Generalization capacity**"
      ]
    },
    {
      "cell_type": "markdown",
      "metadata": {
        "id": "mSO7d-8Z76gV",
        "colab_type": "text"
      },
      "source": [
        "###1) First we test generalization capacity on pairs of images corresponding to labels s [\"top\", \"trouser\", \"pullover\", \"coat\",\"sandal\", \"ankle boot\"]"
      ]
    },
    {
      "cell_type": "code",
      "metadata": {
        "id": "QBYKwJlh7yE6",
        "colab_type": "code",
        "colab": {
          "base_uri": "https://localhost:8080/",
          "height": 35
        },
        "outputId": "f44e0723-6b3f-4c33-c6d0-fd34e1819d37"
      },
      "source": [
        "# compute final accuracy on validation set which consist of data corresponding to labels [\"top\", \"trouser\", \"pullover\", \"coat\", \"sandal\", \"ankle boot\"]\n",
        "#Quantitative Results\n",
        "y_pred = model.predict([val_pairs[:, 0], val_pairs[:, 1]])\n",
        "tr_acc = compute_accuracy(val_y, y_pred)\n",
        "print('* Accuracy on Validation set: %0.2f%%' % (100 * tr_acc))"
      ],
      "execution_count": 150,
      "outputs": [
        {
          "output_type": "stream",
          "text": [
            "* Accuracy on Validation set: 88.65%\n"
          ],
          "name": "stdout"
        }
      ]
    },
    {
      "cell_type": "code",
      "metadata": {
        "id": "GRem80euSBlf",
        "colab_type": "code",
        "colab": {
          "base_uri": "https://localhost:8080/",
          "height": 184
        },
        "outputId": "7ce2c3d1-4588-403c-fff0-63c22c093392"
      },
      "source": [
        "#here change the index variable to get different types of pairs of images and their model prediction\n",
        "index = 8\n",
        "plotfigures_data(index,y_pred,train_pairs,train_y)"
      ],
      "execution_count": 151,
      "outputs": [
        {
          "output_type": "stream",
          "text": [
            "Ground label:  similar\n",
            "Model  prediction:  similar\n"
          ],
          "name": "stdout"
        },
        {
          "output_type": "display_data",
          "data": {
            "image/png": "[encoded data removed]",
            "text/plain": [
              "<Figure size 432x288 with 2 Axes>"
            ]
          },
          "metadata": {
            "tags": []
          }
        }
      ]
    },
    {
      "cell_type": "markdown",
      "metadata": {
        "id": "aicBN9zmohNh",
        "colab_type": "text"
      },
      "source": [
        "### 2) Now we test generalization capacity on data which corresponds to labels  [\"dress\", \"sneaker\", \"bag\", \"shirt\"]"
      ]
    },
    {
      "cell_type": "code",
      "metadata": {
        "id": "mASBYzVSMpZb",
        "colab_type": "code",
        "colab": {
          "base_uri": "https://localhost:8080/",
          "height": 35
        },
        "outputId": "394fb7d1-f89b-4e91-a853-c36ff21d8663"
      },
      "source": [
        "#As we know the the daat corresponding to the above mentioned labels is placed in test_pairs variable\n",
        "y_pred = model.predict([test_pairs[:, 0], test_pairs[:, 1]])\n",
        "te_acc = compute_accuracy(test_y, y_pred)\n",
        "print('* Accuracy on test set: %0.2f%%' % (100 * te_acc))"
      ],
      "execution_count": 152,
      "outputs": [
        {
          "output_type": "stream",
          "text": [
            "* Accuracy on test set: 81.73%\n"
          ],
          "name": "stdout"
        }
      ]
    },
    {
      "cell_type": "code",
      "metadata": {
        "id": "nEATpTlUplDm",
        "colab_type": "code",
        "colab": {
          "base_uri": "https://localhost:8080/",
          "height": 184
        },
        "outputId": "8739f7d6-5791-4f72-cfb6-12d0d6537327"
      },
      "source": [
        "#here change the index variable to get different types of pairs of images and their model prediction\n",
        "index = 7\n",
        "plotfigures_data(index,y_pred,test_pairs,test_y)"
      ],
      "execution_count": 154,
      "outputs": [
        {
          "output_type": "stream",
          "text": [
            "Ground label:  different\n",
            "Model  prediction:  different\n"
          ],
          "name": "stdout"
        },
        {
          "output_type": "display_data",
          "data": {
            "image/png": "[encoded data removed]",
            "text/plain": [
              "<Figure size 432x288 with 2 Axes>"
            ]
          },
          "metadata": {
            "tags": []
          }
        }
      ]
    },
    {
      "cell_type": "markdown",
      "metadata": {
        "id": "qA2aIuK1r1kP",
        "colab_type": "text"
      },
      "source": [
        "###3) Now we show generalization capacity of our model on pairs of images corresponding to labels  [\"top\", \"trouser\", \"pullover\", \"coat\",\"sandal\", \"ankle boot\"] union [\"dress\", \"sneaker\", \"bag\", \"shirt\"]"
      ]
    },
    {
      "cell_type": "code",
      "metadata": {
        "id": "kmuoXC01sM9d",
        "colab_type": "code",
        "colab": {
          "base_uri": "https://localhost:8080/",
          "height": 52
        },
        "outputId": "9524a9ec-95d3-4293-a8a4-3d5a13075a5e"
      },
      "source": [
        "union_indices = testlabels_indices.copy()\n",
        "\n",
        "#We first concatenate indices of validation data and testing data to get pair of images of both dataset.\n",
        "for i in range(len(vallabels_indices)):\n",
        "  union_indices.append(vallabels_indices[i])\n",
        "\n",
        "#Creating pairs of union data\n",
        "union_pairs,union_y = create_pairs(finaldata, union_indices)\n",
        "union_pairs = union_pairs.astype('float32')\n",
        "union_pairs /= 255\n",
        "print(union_pairs.shape)\n",
        "print(union_y.shape)"
      ],
      "execution_count": 164,
      "outputs": [
        {
          "output_type": "stream",
          "text": [
            "(27980, 2, 28, 28, 1)\n",
            "(27980,)\n"
          ],
          "name": "stdout"
        }
      ]
    },
    {
      "cell_type": "code",
      "metadata": {
        "id": "rqiIA5aotCgM",
        "colab_type": "code",
        "colab": {
          "base_uri": "https://localhost:8080/",
          "height": 35
        },
        "outputId": "1aec9d35-fdb2-45e8-f33d-53a67a153a7f"
      },
      "source": [
        "#As we know the the data corresponding to the above mentioned labels is placed in union pairs variable\n",
        "y_pred = model.predict([union_pairs[:, 0], union_pairs[:, 1]])\n",
        "union_acc = compute_accuracy(union_y, y_pred)\n",
        "print('* Accuracy on union test set: %0.2f%%' % (100 * union_acc))"
      ],
      "execution_count": 165,
      "outputs": [
        {
          "output_type": "stream",
          "text": [
            "* Accuracy on union test set: 83.41%\n"
          ],
          "name": "stdout"
        }
      ]
    },
    {
      "cell_type": "code",
      "metadata": {
        "id": "MnuwYFGmuli_",
        "colab_type": "code",
        "colab": {
          "base_uri": "https://localhost:8080/",
          "height": 184
        },
        "outputId": "3d2a1002-6c26-4ba4-8858-298496118d1b"
      },
      "source": [
        "index = 15000\n",
        "plotfigures_data(index,y_pred,union_pairs,union_y)"
      ],
      "execution_count": 179,
      "outputs": [
        {
          "output_type": "stream",
          "text": [
            "Ground label:  similar\n",
            "Model  prediction:  similar\n"
          ],
          "name": "stdout"
        },
        {
          "output_type": "display_data",
          "data": {
            "image/png": "[encoded data removed]",
            "text/plain": [
              "<Figure size 432x288 with 2 Axes>"
            ]
          },
          "metadata": {
            "tags": []
          }
        }
      ]
    },
    {
      "cell_type": "code",
      "metadata": {
        "id": "v5y07f5aw2I3",
        "colab_type": "code",
        "colab": {}
      },
      "source": [
        ""
      ],
      "execution_count": 0,
      "outputs": []
    }
  ]
}